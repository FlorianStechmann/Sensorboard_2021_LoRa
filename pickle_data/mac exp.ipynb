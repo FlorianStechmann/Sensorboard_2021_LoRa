{
 "cells": [
  {
   "cell_type": "code",
   "execution_count": 1,
   "id": "57018bc9",
   "metadata": {},
   "outputs": [],
   "source": [
    "import pickle\n",
    "import matplotlib.pyplot as plt"
   ]
  },
  {
   "cell_type": "code",
   "execution_count": 67,
   "id": "56268368",
   "metadata": {},
   "outputs": [],
   "source": [
    "# load data for gateway failure\n",
    "with open(\"log_exp30s_b_1.pkl\", \"rb\") as f:\n",
    "    data = pickle.load(f)"
   ]
  },
  {
   "cell_type": "code",
   "execution_count": 68,
   "id": "6d77cd8d",
   "metadata": {},
   "outputs": [
    {
     "name": "stdout",
     "output_type": "stream",
     "text": [
      "4008 2016 0 3860\n"
     ]
    }
   ],
   "source": [
    "print(len(data[0]), len(data[1]), len(data[2]), len(data[3]))"
   ]
  },
  {
   "cell_type": "code",
   "execution_count": 69,
   "id": "5fcc4116",
   "metadata": {},
   "outputs": [
    {
     "data": {
      "text/plain": [
       "[(3982231425, 1720, 54822, 55127, -108),\n",
       " (3982231425, 1729, 55147, 55147, -108),\n",
       " (3982231425, 1720, 54822, 55154, -106),\n",
       " (3982231425, 1720, 54822, 55161, -108),\n",
       " (3982231425, 1730, 55181, 55181, -106),\n",
       " (3982231425, 1720, 54822, 55187, -106),\n",
       " (3982231425, 1720, 54822, 55194, -105),\n",
       " (3982231425, 1731, 55207, 55207, -111),\n",
       " (3982231425, 1720, 54822, 55214, -106)]"
      ]
     },
     "execution_count": 69,
     "metadata": {},
     "output_type": "execute_result"
    }
   ],
   "source": [
    "data[0][-10:-1]"
   ]
  },
  {
   "cell_type": "code",
   "execution_count": 70,
   "id": "53c9926f",
   "metadata": {},
   "outputs": [],
   "source": [
    "data_format = ('board_id', 'pkt_no', 'Tx_time', 'reTx_time', 'RSSI')"
   ]
  },
  {
   "cell_type": "markdown",
   "id": "41828fc9",
   "metadata": {},
   "source": [
    "#### Checking the confidence interval (40s)\n"
   ]
  },
  {
   "cell_type": "code",
   "execution_count": 71,
   "id": "9d345b6f",
   "metadata": {},
   "outputs": [],
   "source": [
    "late_pkts = []\n",
    "late_pkt_num = []\n",
    "for d in data[0]:\n",
    "    if d[3]-d[2]==0:   ### 40 + 12*2 : max tx. interval + max. re-tx. interval * 2\n",
    "        pkt = [d,d[3]-d[2]]\n",
    "        late_pkts += [pkt]\n",
    "        late_pkt_num += [d[1]]\n",
    "        #print(d[1],d[4:6], d[5]-d[4])\n",
    "        #print('packets outside conf. interval', d)"
   ]
  },
  {
   "cell_type": "code",
   "execution_count": 72,
   "id": "b2219773",
   "metadata": {},
   "outputs": [
    {
     "data": {
      "text/plain": [
       "1555"
      ]
     },
     "execution_count": 72,
     "metadata": {},
     "output_type": "execute_result"
    }
   ],
   "source": [
    "len(late_pkts)"
   ]
  },
  {
   "cell_type": "code",
   "execution_count": 73,
   "id": "fae1ca2d",
   "metadata": {},
   "outputs": [
    {
     "data": {
      "text/plain": [
       "[(3982231425, 1731, 55207, 55207, -111), 0]"
      ]
     },
     "execution_count": 73,
     "metadata": {},
     "output_type": "execute_result"
    }
   ],
   "source": [
    "late_pkts[-1]"
   ]
  },
  {
   "cell_type": "code",
   "execution_count": 74,
   "id": "d8a943e7",
   "metadata": {},
   "outputs": [
    {
     "name": "stdout",
     "output_type": "stream",
     "text": [
      "PRR of the sensor node: 95.72748267898383\n"
     ]
    }
   ],
   "source": [
    "### PRR of the sesnor node (PB+RB)\n",
    "packet_num = []\n",
    "num_pkts_sent = 0 \n",
    "num_pkts_rx = 0\n",
    "for d in data[1]:\n",
    "    if d[1] not in packet_num and d[3]-d[2]<10:   ## no repeated pkt and no pkts outside conf. int.\n",
    "        packet_num += [d[1]]\n",
    "num_pkts_sent = max(packet_num)\n",
    "num_pkts_rx = len(packet_num)\n",
    "prr_sn = (num_pkts_rx/num_pkts_sent) * 100\n",
    "print('PRR of the sensor node:', prr_sn)"
   ]
  },
  {
   "cell_type": "code",
   "execution_count": 75,
   "id": "c414267f",
   "metadata": {},
   "outputs": [
    {
     "name": "stdout",
     "output_type": "stream",
     "text": [
      "PRR of the sensor node: 87.12471131639722\n"
     ]
    }
   ],
   "source": [
    "### PRR of the sesnor node (PB+RB) only Tx.\n",
    "packet_num = []\n",
    "num_pkts_sent = 0 \n",
    "num_pkts_rx = 0\n",
    "for d in data[1]:\n",
    "    if d[1] not in packet_num and d[3]-d[2]==0:   ## no repeated pkt and no pkts outside conf. int.\n",
    "        packet_num += [d[1]]\n",
    "num_pkts_sent = max(packet_num)\n",
    "num_pkts_rx = len(packet_num)\n",
    "prr_sn = (num_pkts_rx/num_pkts_sent) * 100\n",
    "print('PRR of the sensor node:', prr_sn)"
   ]
  },
  {
   "cell_type": "code",
   "execution_count": 62,
   "id": "263419a8",
   "metadata": {},
   "outputs": [
    {
     "data": {
      "text/plain": [
       "140"
      ]
     },
     "execution_count": 62,
     "metadata": {},
     "output_type": "execute_result"
    }
   ],
   "source": [
    "max(packet_num)"
   ]
  },
  {
   "cell_type": "code",
   "execution_count": 63,
   "id": "1500b366",
   "metadata": {},
   "outputs": [
    {
     "data": {
      "text/plain": [
       "64"
      ]
     },
     "execution_count": 63,
     "metadata": {},
     "output_type": "execute_result"
    }
   ],
   "source": [
    "len(packet_num)"
   ]
  },
  {
   "cell_type": "code",
   "execution_count": null,
   "id": "b1c568f9",
   "metadata": {},
   "outputs": [],
   "source": []
  }
 ],
 "metadata": {
  "kernelspec": {
   "display_name": "Python 3 (ipykernel)",
   "language": "python",
   "name": "python3"
  },
  "language_info": {
   "codemirror_mode": {
    "name": "ipython",
    "version": 3
   },
   "file_extension": ".py",
   "mimetype": "text/x-python",
   "name": "python",
   "nbconvert_exporter": "python",
   "pygments_lexer": "ipython3",
   "version": "3.10.8"
  }
 },
 "nbformat": 4,
 "nbformat_minor": 5
}
